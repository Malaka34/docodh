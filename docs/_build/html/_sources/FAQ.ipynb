{
 "cells": [
  {
   "cell_type": "markdown",
   "id": "32c6f33f",
   "metadata": {},
   "source": [
    "![](Bandeau_seul_ODH.png)\n",
    "\n",
    "# FAQ\n",
    "\n",
    "## 1- Comment assurer la cohérence avec les fichiers locaux après une modification de table ou téléchargement de fichiers depuis pgAdmin 4 ?\n",
    "\n",
    "Après un téléchargement depuis pgAdmin, il faut s'assurer que le séparateur de texte du fichier téléchargé est **`';'`**. Ceci en le réenregistrant via Excel et en choisissant  **`';'`** comme séparateur. Il faut aussi s'assurer que l'encodage soit en **`utf-8`**.\n",
    "    Voici des exemples de comment faire :\n",
    "\n",
    "### a- Fichier des Modalités"
   ]
  },
  {
   "cell_type": "code",
   "execution_count": null,
   "id": "e82ff19e",
   "metadata": {},
   "outputs": [],
   "source": [
    "# Chargement du fichier des modalités (explain all the params)\n",
    "Modalites = pd.read_csv(path_vars+nom_Fichier_Modalite, delimiter=';', encoding='latin1')"
   ]
  },
  {
   "cell_type": "code",
   "execution_count": null,
   "id": "0cd92210",
   "metadata": {},
   "outputs": [],
   "source": [
    "# renommage des colonnes (explain why ?)\n",
    "Modalites.rename(columns={'codemodalid':'CodeModalID', 'categ_regroupement':'Categ_regroupement', 'libelle_long\t':'Libelle_long', 'codemodalext':'CodeModalEXT', 'libellemodal':'LibelleModal'}, inplace=True)"
   ]
  },
  {
   "cell_type": "code",
   "execution_count": null,
   "id": "8610204b",
   "metadata": {},
   "outputs": [],
   "source": [
    "# Enregistrement des modifications\n",
    "Modalites.to_csv(path_vars+nom_Fichier_Modalite,index=False,sep=';', encoding='utf-8')"
   ]
  },
  {
   "cell_type": "markdown",
   "id": "88fcbc9a",
   "metadata": {},
   "source": [
    "### b-Fichier des Variables"
   ]
  },
  {
   "cell_type": "code",
   "execution_count": null,
   "id": "067fd47b",
   "metadata": {},
   "outputs": [],
   "source": [
    "# Chargement du fichier des modalités (explain all the params)\n",
    "Variables = pd.read_csv(path_vars+nom_Fichier_Variable,sep=';',encoding='latin1')"
   ]
  },
  {
   "cell_type": "code",
   "execution_count": null,
   "id": "fb6c1ede",
   "metadata": {},
   "outputs": [],
   "source": [
    "# renommage des colonnes (explain why ?)\n",
    "Variables.rename(columns={'codevarid':'CodeVarID','libaxeanalyse':'LibAxeAnalyse','origine':'Origine','codevarext':'CodeVarEXT'},inplace=True)"
   ]
  },
  {
   "cell_type": "code",
   "execution_count": null,
   "id": "e61bb890",
   "metadata": {},
   "outputs": [],
   "source": [
    "# Enregistrement des modifications\n",
    "Variables.to_csv(path_vars+nom_Fichier_Variable,index=False,sep=';',encoding='utf-8')"
   ]
  },
  {
   "cell_type": "markdown",
   "id": "a260d08e",
   "metadata": {},
   "source": [
    "### c- Fichier de jointure Posseder"
   ]
  },
  {
   "cell_type": "code",
   "execution_count": null,
   "id": "7240fc6c",
   "metadata": {},
   "outputs": [],
   "source": [
    "# Chargement du fichier des modalités (explain all the params)\n",
    "Posseder = pd.read_csv(path_vars+'posseder_aides_personne.csv',sep=',',encoding='utf-8')"
   ]
  },
  {
   "cell_type": "code",
   "execution_count": null,
   "id": "6f77a5b4",
   "metadata": {},
   "outputs": [],
   "source": [
    "# renommage des colonnes (explain why ?)\n",
    "Posseder.rename(columns={'codevarid':'CodeVarID','codemodalid':'CodeModalID'},inplace=True)"
   ]
  },
  {
   "cell_type": "code",
   "execution_count": null,
   "id": "0dafd4cc",
   "metadata": {},
   "outputs": [],
   "source": [
    "# Enregistrement des modifications\n",
    "Posseder.to_csv(path_vars+'posseder_aides_personne.csv',index=False,sep=';',encoding='utf-8')"
   ]
  },
  {
   "cell_type": "markdown",
   "id": "f94997ac",
   "metadata": {},
   "source": [
    "## 2- Erreur UnicodeDecodeError\n",
    "Cette erreur se produit lorsque vous essayez d'ouvrir un fichier avec l'encodage **`utf-8`**, alors qu'il est encodé différement."
   ]
  },
  {
   "cell_type": "code",
   "execution_count": null,
   "id": "f4c6adfc",
   "metadata": {},
   "outputs": [],
   "source": [
    "UnicodeDecodeError: 'utf-8' codec can't decode byte 0xe9 in position 1665: invalid continuation byte"
   ]
  },
  {
   "cell_type": "markdown",
   "id": "e5db9c03",
   "metadata": {},
   "source": [
    "Pour régler ce problème, exécutez les mêmes cellules que dans la question précédente, sauf la cellule du renommage.\n",
    "\n",
    "\n",
    "## 3- Erreur FileExistsError: [WinError 183] \n",
    "Lorsque vous rencontrez sur ce type d'erreur comme par exemple :"
   ]
  },
  {
   "cell_type": "code",
   "execution_count": null,
   "id": "72f1e32a",
   "metadata": {},
   "outputs": [],
   "source": [
    "FileExistsError: [WinError 183] Impossible de créer un fichier déjà existant: 'DossierFichiersTraités'"
   ]
  },
  {
   "cell_type": "markdown",
   "id": "3bbaff77",
   "metadata": {},
   "source": [
    "Cela indique que vous essayer de créer un dossier qui existe déjà. Vous devez donc supprimer le dossier existant et réexécuter votre code.\n",
    "\n",
    "\n",
    "## 4- Erreur ModuleNotFoundError \n",
    "Ce type d'erreur se produit quand vous essayez d'utiliser une bibliothèque / un package non importé."
   ]
  },
  {
   "cell_type": "code",
   "execution_count": null,
   "id": "2a049024",
   "metadata": {},
   "outputs": [],
   "source": [
    "ModuleNotFoundError: No module named 'fonctions'"
   ]
  },
  {
   "cell_type": "markdown",
   "id": "a234265a",
   "metadata": {},
   "source": [
    "Dans cet exemple, c'est parce que le chemin d'accès au fichier **`fonctions.py`** n'est pas spécifié correctement. la ligne de code suivante doit être modifiée :"
   ]
  },
  {
   "cell_type": "code",
   "execution_count": null,
   "id": "90238373",
   "metadata": {},
   "outputs": [],
   "source": [
    "sys.path.insert(0, r\"C:/Users/malaka/Documents/BDD\")  # à adapter a partir de malaka"
   ]
  },
  {
   "cell_type": "markdown",
   "id": "95355faf",
   "metadata": {},
   "source": [
    "## 5- Erreur AttributeError"
   ]
  },
  {
   "cell_type": "code",
   "execution_count": null,
   "id": "f2d7c8b8",
   "metadata": {},
   "outputs": [],
   "source": [
    "AttributeError: 'NoneType' object has no attribute 'cursor'"
   ]
  },
  {
   "cell_type": "markdown",
   "id": "18510251",
   "metadata": {},
   "source": [
    "lorsque le mauvais mot de passe et/ou  nom d'utilisateur est entré pour se connecter au serveur.\n",
    "\n",
    "\n",
    "## 6- Erreur psycopg2.errors.UniqueViolation"
   ]
  },
  {
   "cell_type": "code",
   "execution_count": null,
   "id": "64189b1a",
   "metadata": {},
   "outputs": [],
   "source": [
    "psycopg2.errors.UniqueViolation: ERREUR:  la valeur d'une clé dupliquée rompt la contrainte unique « age_demandeur_attribution_pkey »\n",
    "DETAIL:  La clé « (indiceposition)=(15340031522020) » existe déjà."
   ]
  },
  {
   "cell_type": "markdown",
   "id": "64950775",
   "metadata": {},
   "source": [
    "Cela indique que vous avez peut-être entré le paramètre de l'année de manière incorrecte.\n",
    "\n",
    "![](logo_bandeau.jpg)"
   ]
  }
 ],
 "metadata": {
  "jupytext": {
   "cell_metadata_filter": "-all",
   "formats": "md:myst",
   "text_representation": {
    "extension": ".md",
    "format_name": "myst",
    "format_version": 0.13,
    "jupytext_version": "1.11.5"
   }
  },
  "kernelspec": {
   "display_name": "Python 3",
   "language": "python",
   "name": "python3"
  },
  "source_map": [
   14,
   25,
   31,
   37,
   40,
   42,
   48,
   54,
   57,
   60,
   66,
   72,
   75,
   78,
   80,
   87,
   89,
   96,
   98,
   101,
   103,
   108,
   110,
   116,
   119
  ]
 },
 "nbformat": 4,
 "nbformat_minor": 5
}