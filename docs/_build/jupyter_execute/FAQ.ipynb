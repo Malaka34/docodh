{
 "cells": [
  {
   "cell_type": "markdown",
   "id": "580a5393",
   "metadata": {},
   "source": [
    "![](Bandeau_seul_ODH.png)\n",
    "\n",
    "# FAQ\n",
    "\n",
    "## 1- Comment assurer la cohérence avec les fichiers locaux après une modification de table ou téléchargement de fichiers depuis pgAdmin 4 ?\n",
    "\n",
    "Après un téléchargement depuis pgAdmin, il faut s'assurer que le séparateur de texte du fichier téléchargé est **`';'`**. Ceci en le réenregistrant via Excel et en choisissant  **`';'`** comme séparateur. Il faut aussi s'assurer que l'encodage soit en **`utf-8`**.\n",
    "    Voici des exemples de comment faire :\n",
    "\n",
    "### a- Fichier des Modalités"
   ]
  },
  {
   "cell_type": "code",
   "execution_count": null,
   "id": "a5acf883",
   "metadata": {},
   "outputs": [],
   "source": [
    "# Chargement du fichier des modalités (explain all the params)\n",
    "Modalites = pd.read_csv(path_vars+nom_Fichier_Modalite, delimiter=';', encoding='latin1')"
   ]
  },
  {
   "cell_type": "code",
   "execution_count": null,
   "id": "c992cc32",
   "metadata": {},
   "outputs": [],
   "source": [
    "# renommage des colonnes (explain why ?)\n",
    "Modalites.rename(columns={'codemodalid':'CodeModalID', 'categ_regroupement':'Categ_regroupement', 'libelle_long\t':'Libelle_long', 'codemodalext':'CodeModalEXT', 'libellemodal':'LibelleModal'}, inplace=True)"
   ]
  },
  {
   "cell_type": "code",
   "execution_count": null,
   "id": "9bc8717f",
   "metadata": {},
   "outputs": [],
   "source": [
    "# Enregistrement des modifications\n",
    "Modalites.to_csv(path_vars+nom_Fichier_Modalite,index=False,sep=';', encoding='utf-8')"
   ]
  },
  {
   "cell_type": "markdown",
   "id": "3364754b",
   "metadata": {},
   "source": [
    "### b-Fichier des Variables"
   ]
  },
  {
   "cell_type": "code",
   "execution_count": null,
   "id": "5cc4cf9b",
   "metadata": {},
   "outputs": [],
   "source": [
    "# Chargement du fichier des modalités (explain all the params)\n",
    "Variables = pd.read_csv(path_vars+nom_Fichier_Variable,sep=';',encoding='latin1')"
   ]
  },
  {
   "cell_type": "code",
   "execution_count": null,
   "id": "bdd9e1e8",
   "metadata": {},
   "outputs": [],
   "source": [
    "# renommage des colonnes (explain why ?)\n",
    "Variables.rename(columns={'codevarid':'CodeVarID','libaxeanalyse':'LibAxeAnalyse','origine':'Origine','codevarext':'CodeVarEXT'},inplace=True)"
   ]
  },
  {
   "cell_type": "code",
   "execution_count": null,
   "id": "8fc4fcd9",
   "metadata": {},
   "outputs": [],
   "source": [
    "# Enregistrement des modifications\n",
    "Variables.to_csv(path_vars+nom_Fichier_Variable,index=False,sep=';',encoding='utf-8')"
   ]
  },
  {
   "cell_type": "markdown",
   "id": "435225ea",
   "metadata": {},
   "source": [
    "### c- Fichier de jointure Posseder"
   ]
  },
  {
   "cell_type": "code",
   "execution_count": null,
   "id": "7be8d75c",
   "metadata": {},
   "outputs": [],
   "source": [
    "# Chargement du fichier des modalités (explain all the params)\n",
    "Posseder = pd.read_csv(path_vars+'posseder_aides_personne.csv',sep=',',encoding='utf-8')"
   ]
  },
  {
   "cell_type": "code",
   "execution_count": null,
   "id": "df08983e",
   "metadata": {},
   "outputs": [],
   "source": [
    "# renommage des colonnes (explain why ?)\n",
    "Posseder.rename(columns={'codevarid':'CodeVarID','codemodalid':'CodeModalID'},inplace=True)"
   ]
  },
  {
   "cell_type": "code",
   "execution_count": null,
   "id": "174ff1cf",
   "metadata": {},
   "outputs": [],
   "source": [
    "# Enregistrement des modifications\n",
    "Posseder.to_csv(path_vars+'posseder_aides_personne.csv',index=False,sep=';',encoding='utf-8')"
   ]
  },
  {
   "cell_type": "markdown",
   "id": "e5cb2567",
   "metadata": {},
   "source": [
    "## 2- Erreur UnicodeDecodeError\n",
    "Cette erreur se produit lorsque vous essayez d'ouvrir un fichier avec l'encodage **`utf-8`**, alors qu'il est encodé différement."
   ]
  },
  {
   "cell_type": "code",
   "execution_count": null,
   "id": "fc4e03d3",
   "metadata": {},
   "outputs": [],
   "source": [
    "UnicodeDecodeError: 'utf-8' codec can't decode byte 0xe9 in position 1665: invalid continuation byte"
   ]
  },
  {
   "cell_type": "markdown",
   "id": "eb22ffb7",
   "metadata": {},
   "source": [
    "Pour régler ce problème, exécutez les mêmes cellules que dans la question précédente, sauf la cellule du renommage.\n",
    "\n",
    "\n",
    "## 3- Erreur FileExistsError: [WinError 183] \n",
    "Lorsque vous rencontrez sur ce type d'erreur comme par exemple :"
   ]
  },
  {
   "cell_type": "code",
   "execution_count": null,
   "id": "c05d5c51",
   "metadata": {},
   "outputs": [],
   "source": [
    "FileExistsError: [WinError 183] Impossible de créer un fichier déjà existant: 'DossierFichiersTraités'"
   ]
  },
  {
   "cell_type": "markdown",
   "id": "4b7df859",
   "metadata": {},
   "source": [
    "Cela indique que vous essayer de créer un dossier qui existe déjà. Vous devez donc supprimer le dossier existant et réexécuter votre code.\n",
    "\n",
    "\n",
    "## 4- Erreur ModuleNotFoundError \n",
    "Ce type d'erreur se produit quand vous essayez d'utiliser une bibliothèque / un package non importé."
   ]
  },
  {
   "cell_type": "code",
   "execution_count": null,
   "id": "24f901ea",
   "metadata": {},
   "outputs": [],
   "source": [
    "ModuleNotFoundError: No module named 'fonctions'"
   ]
  },
  {
   "cell_type": "markdown",
   "id": "7d291abd",
   "metadata": {},
   "source": [
    "Dans cet exemple, c'est parce que le chemin d'accès au fichier **`fonctions.py`** n'est pas spécifié correctement. la ligne de code suivante doit être modifiée :"
   ]
  },
  {
   "cell_type": "code",
   "execution_count": null,
   "id": "de65862a",
   "metadata": {},
   "outputs": [],
   "source": [
    "sys.path.insert(0, r\"C:/Users/malaka/Documents/BDD\")  # à adapter a partir de malaka"
   ]
  },
  {
   "cell_type": "markdown",
   "id": "ac1fb542",
   "metadata": {},
   "source": [
    "## 5- Erreur AttributeError"
   ]
  },
  {
   "cell_type": "code",
   "execution_count": null,
   "id": "183bf218",
   "metadata": {},
   "outputs": [],
   "source": [
    "AttributeError: 'NoneType' object has no attribute 'cursor'"
   ]
  },
  {
   "cell_type": "markdown",
   "id": "4270ce3e",
   "metadata": {},
   "source": [
    "lorsque le mauvais mot de passe et/ou  nom d'utilisateur est entré pour se connecter au serveur.\n",
    "\n",
    "\n",
    "## 6- Erreur psycopg2.errors.UniqueViolation"
   ]
  },
  {
   "cell_type": "code",
   "execution_count": null,
   "id": "45194dc1",
   "metadata": {},
   "outputs": [],
   "source": [
    "psycopg2.errors.UniqueViolation: ERREUR:  la valeur d'une clé dupliquée rompt la contrainte unique « age_demandeur_attribution_pkey »\n",
    "DETAIL:  La clé « (indiceposition)=(15340031522020) » existe déjà."
   ]
  },
  {
   "cell_type": "markdown",
   "id": "2e034c90",
   "metadata": {},
   "source": [
    "Cela indique que vous avez peut-être entré le paramètre de l'année de manière incorrecte.\n",
    "\n",
    "![](logo_bandeau.jpg)"
   ]
  }
 ],
 "metadata": {
  "jupytext": {
   "cell_metadata_filter": "-all",
   "formats": "md:myst",
   "text_representation": {
    "extension": ".md",
    "format_name": "myst",
    "format_version": 0.13,
    "jupytext_version": "1.11.5"
   }
  },
  "kernelspec": {
   "display_name": "Python 3",
   "language": "python",
   "name": "python3"
  },
  "source_map": [
   14,
   25,
   31,
   37,
   40,
   42,
   48,
   54,
   57,
   60,
   66,
   72,
   75,
   78,
   80,
   87,
   89,
   96,
   98,
   101,
   103,
   108,
   110,
   116,
   119
  ]
 },
 "nbformat": 4,
 "nbformat_minor": 5
}